{
 "cells": [
  {
   "cell_type": "code",
   "execution_count": 19,
   "metadata": {},
   "outputs": [
    {
     "name": "stdout",
     "output_type": "stream",
     "text": [
      "b'\\x93NUMPY'\n"
     ]
    }
   ],
   "source": [
    "with open(\"processed_data/motions_part0.npy\", \"rb\") as f:\n",
    "    header = f.read(6)\n",
    "    print(header)\n",
    "\n"
   ]
  },
  {
   "cell_type": "code",
   "execution_count": 13,
   "metadata": {},
   "outputs": [
    {
     "name": "stdout",
     "output_type": "stream",
     "text": [
      "motions shape: (10000, 196, 263)\n",
      "texts shape: (10000, 64)\n"
     ]
    }
   ],
   "source": [
    "import numpy as np\n",
    "\n",
    "motions = np.load(\"processed_data/motions_part0.npy\", mmap_mode='r')  # 正确方式\n",
    "texts = np.load(\"processed_data/texts_part0.npy\", mmap_mode='r')\n",
    "\n",
    "print(\"motions shape:\", motions.shape)\n",
    "print(\"texts shape:\", texts.shape)\n"
   ]
  },
  {
   "cell_type": "code",
   "execution_count": 2,
   "metadata": {},
   "outputs": [],
   "source": [
    "import xml.etree.ElementTree as ET\n",
    "\n",
    "# 设定87个关节的名称（可根据 SMPL-X 标准替换）\n",
    "joint_names = [f\"j{i}\" for i in range(87)]\n",
    "\n",
    "def create_joint(name, axis):\n",
    "    return ET.Element(\"joint\", {\n",
    "        \"name\": name,\n",
    "        \"type\": \"slide\",\n",
    "        \"axis\": axis\n",
    "    })\n",
    "\n",
    "def create_geom(name, size=\"0.02\", rgba=\"0.8 0.3 0.3 1\"):\n",
    "    return ET.Element(\"geom\", {\n",
    "        \"name\": f\"{name}_geom\",\n",
    "        \"type\": \"sphere\",\n",
    "        \"size\": size,\n",
    "        \"rgba\": rgba\n",
    "    })\n",
    "\n",
    "def create_body(name):\n",
    "    body = ET.Element(\"body\", {\"name\": name, \"pos\": \"0 0 0\"})\n",
    "    body.append(create_joint(f\"{name}_x\", \"1 0 0\"))\n",
    "    body.append(create_joint(f\"{name}_y\", \"0 1 0\"))\n",
    "    body.append(create_joint(f\"{name}_z\", \"0 0 1\"))\n",
    "    body.append(create_geom(name))\n",
    "    return body\n",
    "\n",
    "def build_model():\n",
    "    mjcf = ET.Element(\"mujoco\", {\"model\": \"humanoid_263\"})\n",
    "    ET.SubElement(mjcf, \"compiler\", {\"angle\": \"radian\", \"coordinate\": \"local\"})\n",
    "    \n",
    "    default = ET.SubElement(mjcf, \"default\")\n",
    "    ET.SubElement(default, \"joint\", {\"limited\": \"false\", \"damping\": \"1\"})\n",
    "    ET.SubElement(default, \"geom\", {\"type\": \"sphere\", \"size\": \"0.02\"})\n",
    "\n",
    "    asset = ET.SubElement(mjcf, \"asset\")\n",
    "    ET.SubElement(asset, \"texture\", {\n",
    "        \"name\": \"tex\", \"type\": \"2d\", \"builtin\": \"checker\", \"width\": \"100\", \"height\": \"100\"\n",
    "    })\n",
    "    ET.SubElement(asset, \"material\", {\n",
    "        \"name\": \"mat\", \"texture\": \"tex\", \"reflectance\": \"0.2\"\n",
    "    })\n",
    "\n",
    "    worldbody = ET.SubElement(mjcf, \"worldbody\")\n",
    "\n",
    "    root = ET.SubElement(worldbody, \"body\", {\"name\": \"root\", \"pos\": \"0 0 1\"})\n",
    "    root.append(ET.Element(\"joint\", {\"name\": \"root_tx\", \"type\": \"slide\", \"axis\": \"1 0 0\"}))\n",
    "    root.append(ET.Element(\"joint\", {\"name\": \"root_ty\", \"type\": \"slide\", \"axis\": \"0 1 0\"}))\n",
    "    root.append(ET.Element(\"joint\", {\"name\": \"root_tz\", \"type\": \"slide\", \"axis\": \"0 0 1\"}))\n",
    "    root.append(ET.Element(\"geom\", {\"name\": \"root_geom\", \"type\": \"sphere\", \"size\": \"0.05\", \"rgba\": \"0.3 0.3 0.9 1\"}))\n",
    "\n",
    "    parent = root\n",
    "    for name in joint_names:\n",
    "        body = create_body(name)\n",
    "        parent.append(body)\n",
    "        parent = body  # 线性连接\n",
    "\n",
    "    return ET.ElementTree(mjcf)\n",
    "\n",
    "tree = build_model()\n",
    "tree.write(\"assets/humanoid_263.xml\", encoding=\"utf-8\", xml_declaration=True)\n"
   ]
  }
 ],
 "metadata": {
  "kernelspec": {
   "display_name": "marl",
   "language": "python",
   "name": "python3"
  },
  "language_info": {
   "codemirror_mode": {
    "name": "ipython",
    "version": 3
   },
   "file_extension": ".py",
   "mimetype": "text/x-python",
   "name": "python",
   "nbconvert_exporter": "python",
   "pygments_lexer": "ipython3",
   "version": "3.11.11"
  }
 },
 "nbformat": 4,
 "nbformat_minor": 2
}
